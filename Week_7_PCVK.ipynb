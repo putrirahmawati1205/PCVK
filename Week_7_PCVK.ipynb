{
  "nbformat": 4,
  "nbformat_minor": 0,
  "metadata": {
    "colab": {
      "provenance": [],
      "authorship_tag": "ABX9TyPH5gvgBsni703uEd0fzrJa",
      "include_colab_link": true
    },
    "kernelspec": {
      "name": "python3",
      "display_name": "Python 3"
    },
    "language_info": {
      "name": "python"
    }
  },
  "cells": [
    {
      "cell_type": "markdown",
      "metadata": {
        "id": "view-in-github",
        "colab_type": "text"
      },
      "source": [
        "<a href=\"https://colab.research.google.com/github/putrirahmawati1205/PCVK/blob/main/Week_7_PCVK.ipynb\" target=\"_parent\"><img src=\"https://colab.research.google.com/assets/colab-badge.svg\" alt=\"Open In Colab\"/></a>"
      ]
    },
    {
      "cell_type": "code",
      "execution_count": 1,
      "metadata": {
        "id": "j21H1wXX3GTW",
        "outputId": "0ab88497-66ab-41ea-9f4f-c8a7f7236589",
        "colab": {
          "base_uri": "https://localhost:8080/"
        }
      },
      "outputs": [
        {
          "output_type": "stream",
          "name": "stdout",
          "text": [
            "Mounted at /content/drive\n"
          ]
        }
      ],
      "source": [
        "from google.colab import drive\n",
        "\n",
        "drive.mount('/content/drive')"
      ]
    },
    {
      "cell_type": "code",
      "source": [
        "import numpy as np\n",
        "import matplotlib.pyplot as plt\n",
        "import cv2 as cv\n",
        "import math\n",
        "from google.colab.patches import cv2_imshow\n",
        "from PIL import Image as im"
      ],
      "metadata": {
        "id": "IgHfyWOX4bxO"
      },
      "execution_count": 2,
      "outputs": []
    },
    {
      "cell_type": "code",
      "source": [
        "def convolution2d(image,kernel,stride,padding):\n",
        "  img = cv.imread('/content/drive/MyDrive/PCVK/madrill.tiff')\n",
        "  img_gray = cv.cvtColor(img,cv.COLOR_BGR2GRAY)\n",
        "\n",
        "  #Image Sharpen\n",
        "  kernel_sharpen = np.array([[0,-1,0],\n",
        "                           [-1,5,-1],\n",
        "                           [0,-1,0]])\n",
        "\n",
        "  #Memanggil Fungsi konvulusi\n",
        "  convolution2d(img_gray,kernel_sharpen,1,2)"
      ],
      "metadata": {
        "id": "P3wOBKBd47eR"
      },
      "execution_count": 9,
      "outputs": []
    }
  ]
}